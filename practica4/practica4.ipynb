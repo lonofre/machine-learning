{
  "cells": [
    {
      "cell_type": "markdown",
      "metadata": {},
      "source": [
        "# Práctica 4"
      ]
    },
    {
      "cell_type": "markdown",
      "metadata": {},
      "source": [
        "Se dejó lo principal del notebook original, con algunas modificaciones. La función `preprocess_text()` se encuentra en el archivo `preprocessing.py`."
      ]
    },
    {
      "cell_type": "code",
      "execution_count": 1,
      "metadata": {
        "colab": {
          "base_uri": "https://localhost:8080/",
          "height": 458
        },
        "id": "pM4MqAPSVLok",
        "outputId": "c4d21718-932e-48a0-c61b-f06fe25be70d"
      },
      "outputs": [
        {
          "name": "stderr",
          "output_type": "stream",
          "text": [
            "[nltk_data] Downloading package stopwords to /home/luis/nltk_data...\n",
            "[nltk_data]   Package stopwords is already up-to-date!\n",
            "[nltk_data] Downloading package punkt to /home/luis/nltk_data...\n",
            "[nltk_data]   Package punkt is already up-to-date!\n"
          ]
        }
      ],
      "source": [
        "import pandas as pd\n",
        "from preprocessing import preprocess_text\n",
        "\n",
        "df = pd.read_csv(\"spam_ham_dataset.csv\")\n",
        "\n",
        "# Obtenemos 4 listas, texto completo, etiquetas, spam y ham\n",
        "texto = df[\"text\"]\n",
        "labels = df[\"label_num\"]\n",
        "spam = df[df[\"label_num\"]==1][\"text\"]\n",
        "ham = df[df[\"label_num\"]==0][\"text\"]\n",
        "\n",
        "# Aplicamos la funcion anterior a cada elemento de las listas con texto\n",
        "texto_2 = [preprocess_text(email) for email in texto]\n",
        "\n",
        "spam_2 = [preprocess_text(email) for email in spam]\n",
        "ham_2 = [preprocess_text(email) for email in ham]\n",
        "\n",
        "# Obtenemos el conjunto de palabras unicas de spam\n",
        "set_spam = set()\n",
        "for email in spam_2:\n",
        "  set_spam.update(set(email))\n",
        "\n",
        "# Obtenemos el conjunto de palabras unicas de ham\n",
        "set_ham = set()\n",
        "for email in ham_2:\n",
        "  set_ham.update(set(email))"
      ]
    },
    {
      "cell_type": "markdown",
      "metadata": {},
      "source": [
        "En vez de usar listas para verificar la pertenencia, se prefirió usar conjuntos, lo que nos ayuda a bajar la complejidad y realizar los cálculos más rápidos."
      ]
    },
    {
      "cell_type": "code",
      "execution_count": 2,
      "metadata": {},
      "outputs": [],
      "source": [
        "spam_email = [ set(email) for email in spam_2 ]\n",
        "ham_email = [ set(email) for email in ham_2 ]"
      ]
    },
    {
      "cell_type": "code",
      "execution_count": 3,
      "metadata": {
        "colab": {
          "base_uri": "https://localhost:8080/"
        },
        "id": "Uv4ioIfpb0A9",
        "outputId": "da13f04c-4775-493a-943b-dae0b758e3c5"
      },
      "outputs": [],
      "source": [
        "dict_spamicity = {}\n",
        "#Obtenemos la proba de que aparezca una palabra dado que es spam\n",
        "#Iteramos sobre las palabras que aparecen en spam\n",
        "# Iteramos sobre los correos de spam\n",
        "total_spam = len(spam)\n",
        "for palabra in set_spam:\n",
        "  pInSpam = 0\n",
        "  for email in spam_email:\n",
        "    if palabra in email:\n",
        "      pInSpam +=1\n",
        "  if pInSpam ==0:\n",
        "    proba = 1/total_spam # Parametro\n",
        "  else:\n",
        "    proba = pInSpam/total_spam\n",
        "  dict_spamicity[palabra] = proba\n"
      ]
    },
    {
      "cell_type": "code",
      "execution_count": 5,
      "metadata": {
        "colab": {
          "base_uri": "https://localhost:8080/"
        },
        "id": "oe8qjAJLhx3d",
        "outputId": "30f63663-c4d2-4d2c-cf23-6a0eceef1771"
      },
      "outputs": [],
      "source": [
        "dict_ham = {}\n",
        "#Obtenemos la proba de que aparezca una palabra dado que es ham\n",
        "#Iteramos sobre las palabras que aparecen en ham\n",
        "# Iteramos sobre los correos de ham\n",
        "total_ham = len(ham)\n",
        "for palabra in set_ham:\n",
        "  pInHam = 0\n",
        "  for email in ham_email:\n",
        "    if palabra in email:\n",
        "      pInHam +=1\n",
        "  if pInHam ==0:\n",
        "    proba = 1/total_ham # Parametro\n",
        "  else:\n",
        "    proba = pInHam/total_ham\n",
        "  dict_ham[palabra] = proba"
      ]
    },
    {
      "cell_type": "code",
      "execution_count": null,
      "metadata": {
        "colab": {
          "base_uri": "https://localhost:8080/"
        },
        "id": "DkENnWQXjoD6",
        "outputId": "4c51f838-4905-40a4-c1af-0ed8f1cbc4cc"
      },
      "outputs": [],
      "source": [
        "# Calculamos la proba de spam\n",
        "S = total_spam/(total_spam+total_ham)\n",
        "# Calculamos la proba de ham\n",
        "H = total_ham/(total_spam+total_ham)"
      ]
    },
    {
      "cell_type": "markdown",
      "metadata": {},
      "source": [
        "Aquí realizamos una especie de _smoothing_, que por defecto estaba en `1/total_spam` o `1/total_ham`. En vez de eso, se optó por un valor más pequeño, pues el valor anterior era demasiado grande."
      ]
    },
    {
      "cell_type": "code",
      "execution_count": null,
      "metadata": {
        "colab": {
          "base_uri": "https://localhost:8080/"
        },
        "id": "ZqFwZzQ8keHN",
        "outputId": "3e1ba29b-b19b-4c5b-8014-e816e1038205"
      },
      "outputs": [],
      "source": [
        "# Creamos funcion que reciba una lista de probabilidades, multiplique todas y regrese el resultado\n",
        "def mult(probas) :        # multiplicar todas las probas\n",
        "    total_prob = 1\n",
        "    for proba in probas:\n",
        "      total_prob*=proba\n",
        "    # Multiplicar todas las probas\n",
        "    return total_prob\n",
        "# Creamos funcion que aplique Naive_Bayes a un email, con un threshold como parametro\n",
        "def Naive_Bayes(email,threshold):\n",
        "    probs = []\n",
        "    S # prob_spam\n",
        "    H # prob_ham\n",
        "    # Iteramos sobre las palabras del email\n",
        "    for palabra in email:\n",
        "\n",
        "    # Calculamos la proba de PdadoS #*Si es 0 asignamos una probabilidad baja 1/(total_spam+2)\n",
        "      try:\n",
        "        PdadoS = dict_spamicity[palabra]\n",
        "      except:\n",
        "        PdadoS = 0.00001/total_spam\n",
        "    # Calculamos la proba de PdadoH #*Si es 0 asignamos una probabilidad baja 1/(total_spam+2)\n",
        "      try:\n",
        "          PdadoH = dict_ham[palabra]\n",
        "      except:\n",
        "          PdadoH = 0.00001/total_ham\n",
        "    # Aplicamos Bayes para obtener SdadoP\n",
        "      probaB = PdadoS*S/(PdadoS*S+ PdadoH*H)\n",
        "      probs.append(probaB)\n",
        "    # Multiplicamos todas las probas para obtener el total de SdadoEmail\n",
        "    SdadoEmail = mult(probs)\n",
        "    # Aplicamos el Threshold para determinar si es o no es spam\n",
        "    # print(SdadoEmail)\n",
        "    if SdadoEmail >= threshold:\n",
        "      SdadoEmail =1\n",
        "    else:\n",
        "      SdadoEmail = 0\n",
        "    return SdadoEmail\n"
      ]
    },
    {
      "cell_type": "code",
      "execution_count": null,
      "metadata": {
        "id": "NfUit923iU6M"
      },
      "outputs": [],
      "source": [
        "# Preparamos tests para medir metricas\n",
        "from sklearn.model_selection import train_test_split\n",
        "X_, X_test, y_, y_test = train_test_split(texto_2, labels, test_size=0.33, random_state=42)\n"
      ]
    },
    {
      "cell_type": "code",
      "execution_count": null,
      "metadata": {
        "colab": {
          "base_uri": "https://localhost:8080/"
        },
        "id": "EdjoJ1EBjIEG",
        "outputId": "19cb93a6-575d-4c5b-adc0-364af389afca"
      },
      "outputs": [
        {
          "name": "stdout",
          "output_type": "stream",
          "text": [
            "              precision    recall  f1-score   support\n",
            "\n",
            "           0       0.85      0.97      0.91      1246\n",
            "           1       0.87      0.53      0.66       461\n",
            "\n",
            "    accuracy                           0.85      1707\n",
            "   macro avg       0.86      0.75      0.78      1707\n",
            "weighted avg       0.85      0.85      0.84      1707\n",
            "\n"
          ]
        }
      ],
      "source": [
        "y_pred = [Naive_Bayes(email,.00000000000001) for email in X_test]\n",
        "\n",
        "from sklearn.metrics import confusion_matrix,classification_report,ConfusionMatrixDisplay\n",
        "print(classification_report(y_test,y_pred))"
      ]
    },
    {
      "cell_type": "code",
      "execution_count": null,
      "metadata": {
        "colab": {
          "base_uri": "https://localhost:8080/",
          "height": 489
        },
        "id": "cIE14wgdjTIg",
        "outputId": "eb2d6544-3a3b-4679-a63c-eea0d478caa8"
      },
      "outputs": [
        {
          "data": {
            "text/plain": [
              "Text(0.5, 1.0, 'Confusion Matrix')"
            ]
          },
          "execution_count": 9,
          "metadata": {},
          "output_type": "execute_result"
        },
        {
          "data": {
            "image/png": "[encoded data removed]",
            "text/plain": [
              "<Figure size 640x480 with 2 Axes>"
            ]
          },
          "metadata": {},
          "output_type": "display_data"
        }
      ],
      "source": [
        "import seaborn as sns\n",
        "import matplotlib.pyplot as plt\n",
        "\n",
        "sns.set_style('ticks')\n",
        "ConfusionMatrixDisplay(confusion_matrix(y_test,y_pred)).plot()\n",
        "plt.title(\"Confusion Matrix\")"
      ]
    },
    {
      "cell_type": "markdown",
      "metadata": {},
      "source": [
        "## Resultados\n",
        "\n",
        "Como dicho anteriormente, a los dos se les aplicó el mismo _smoothing_ en el cálculo de Bayes Naïve. El valor del umbral fue `threshold = .00000000000001`. Se obtuvieron los siguientes resultados: "
      ]
    },
    {
      "cell_type": "markdown",
      "metadata": {},
      "source": [
        "**Con procesamiento del lenguaje natural**\n",
        "\n",
        "| Class | Precision | Recall | F1-Score | Support |\n",
        "|-------|-----------|--------|----------|---------|\n",
        "| 0     |   0.85    |  0.97  |   0.91   |  1246   |\n",
        "| 1     |   0.87    |  0.53  |   0.66   |   461   |\n",
        "\n",
        "accuracy: 0.85\n",
        "\n",
        "**Sin procesamiento del lenguaje natural**\n",
        "\n",
        "| Class | Precision | Recall | F1-Score | Support |\n",
        "|-------|-----------|--------|----------|---------|\n",
        "| 0     |   0.77    |  0.99  |   0.87   |  1246   |\n",
        "| 1     |   0.87    |  0.21  |   0.33   |   461   |\n",
        "\n",
        "accuracy: 0.78"
      ]
    },
    {
      "cell_type": "markdown",
      "metadata": {},
      "source": [
        "El valor de _accuracy_ mejoró por .08 puntos. Respecto a las métricas por cada clase, mejoró _precision_ para ham y _recall_ para spam, este último de gran utilidad si la tarea a realizar es detectar spam. Por lo tanto, este modelo (el que utiliza procesamiento del lenguaje natural) es ligeramente superior al anterior."
      ]
    }
  ],
  "metadata": {
    "colab": {
      "provenance": []
    },
    "kernelspec": {
      "display_name": "Python 3",
      "name": "python3"
    },
    "language_info": {
      "codemirror_mode": {
        "name": "ipython",
        "version": 3
      },
      "file_extension": ".py",
      "mimetype": "text/x-python",
      "name": "python",
      "nbconvert_exporter": "python",
      "pygments_lexer": "ipython3",
      "version": "3.8.18"
    }
  },
  "nbformat": 4,
  "nbformat_minor": 0
}
