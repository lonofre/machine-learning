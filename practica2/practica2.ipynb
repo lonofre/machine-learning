{
  "nbformat": 4,
  "nbformat_minor": 0,
  "metadata": {
    "colab": {
      "provenance": [],
      "toc_visible": true
    },
    "kernelspec": {
      "name": "python3",
      "display_name": "Python 3"
    },
    "language_info": {
      "name": "python"
    }
  },
  "cells": [
    {
      "cell_type": "markdown",
      "source": [
        "# Práctica 2. Métricas de evaluación"
      ],
      "metadata": {
        "id": "v_FRL6O8vbWS"
      }
    },
    {
      "cell_type": "code",
      "source": [
        "from keras.datasets import mnist\n",
        "import numpy as np\n",
        "\n",
        "(x_train, y_train), (x_test, y_test) = mnist.load_data()\n",
        "\n",
        "np.random.seed(32)\n",
        "\n",
        "# Se obtiene una muestra con igual número de: cincos vs no cincos\n",
        "# para el conjunto de entrenamiento y el de test\n",
        "idx_y_train_5 = np.where(y_train == 5)[0]\n",
        "idx_y_train_n5 = np.where(y_train != 5)[0]\n",
        "idx_y_train_n5 = np.random.choice(idx_y_train_n5, idx_y_train_5.shape[0], replace=False)\n",
        "\n",
        "idx_y_train = np.concatenate([idx_y_train_5, idx_y_train_n5])\n",
        "np.random.shuffle(idx_y_train)\n",
        "\n",
        "x_train = x_train[idx_y_train]\n",
        "y_train = y_train[idx_y_train]\n",
        "print(x_train.shape)\n",
        "\n",
        "idx_y_test_5 = np.where(y_test == 5)[0]\n",
        "idx_y_test_n5 = np.where(y_test != 5)[0]\n",
        "idx_y_test_n5 = np.random.choice(idx_y_test_n5, idx_y_test_5.shape[0], replace=False)\n",
        "\n",
        "idx_y_test = np.concatenate([idx_y_test_5, idx_y_test_n5])\n",
        "np.random.shuffle(idx_y_test)\n",
        "\n",
        "x_test = x_test[idx_y_test]\n",
        "y_test = y_test[idx_y_test]\n",
        "print(x_test.shape)\n",
        "\n",
        "y_train_binary = (y_train == 5).astype(int)\n",
        "y_test_binary = (y_test == 5).astype(int)"
      ],
      "metadata": {
        "id": "50CNad4MEsHq",
        "colab": {
          "base_uri": "https://localhost:8080/"
        },
        "outputId": "6b574ead-c9c0-448f-de87-b81e011a9e89"
      },
      "execution_count": 1,
      "outputs": [
        {
          "output_type": "stream",
          "name": "stdout",
          "text": [
            "(10842, 28, 28)\n",
            "(1784, 28, 28)\n"
          ]
        }
      ]
    },
    {
      "cell_type": "code",
      "source": [
        "from keras.models import Sequential\n",
        "from keras.layers import Flatten, Dense\n",
        "from keras.metrics import F1Score\n",
        "\n",
        "\n",
        "def create_model(x_train, y_train, epoch, batch_size, validation_split):\n",
        "  '''Creates the perceptron model.'''\n",
        "\n",
        "  model = Sequential([\n",
        "      Flatten(input_shape=(28, 28)),\n",
        "      Dense(1)\n",
        "  ])\n",
        "\n",
        "  model.compile(loss='binary_crossentropy', metrics=['accuracy'])\n",
        "  model.fit(x_train, y_train,\n",
        "            epochs=epoch,\n",
        "            batch_size=batch_size,\n",
        "            validation_split=validation_split)\n",
        "\n",
        "  return model\n"
      ],
      "metadata": {
        "id": "3aBy0CQvHcT9"
      },
      "execution_count": 2,
      "outputs": []
    },
    {
      "cell_type": "code",
      "source": [
        "from sklearn.metrics import confusion_matrix, \\\n",
        "precision_score, recall_score,f1_score, accuracy_score\n",
        "\n",
        "import pandas as pd\n",
        "\n",
        "def get_metrics(model, x_test, y_test) -> pd.DataFrame:\n",
        "  '''Calculates precision, recall and f1-score for\n",
        "  both labels and stores the results in a DataFrame.'''\n",
        "\n",
        "  y_pred = (model.predict(x_test) >= 0.5).astype(int)[:,0]\n",
        "\n",
        "  accuracy = accuracy_score(y_test, y_pred)\n",
        "\n",
        "  precision = precision_score(y_test, y_pred, pos_label=1)\n",
        "  accuracy = accuracy_score(y_test, y_pred)\n",
        "  recall = recall_score(y_test, y_pred, pos_label=1)\n",
        "  f1_s = f1_score(y_test, y_pred, pos_label=1)\n",
        "\n",
        "  precision_0 = precision_score(y_test, y_pred, pos_label=0)\n",
        "  recall_0 = recall_score(y_test, y_pred, pos_label=0)\n",
        "  f1_s_0 = f1_score(y_test, y_pred, pos_label=0)\n",
        "\n",
        "  results = {\n",
        "      'accuracy': accuracy,\n",
        "      'precision': [precision, precision_0],\n",
        "      'recall': [recall, recall_0],\n",
        "      'f1_s': [f1_s, f1_s_0]\n",
        "  }\n",
        "\n",
        "  return pd.DataFrame(data=results)"
      ],
      "metadata": {
        "id": "K1fQEaZH6Wtb"
      },
      "execution_count": 3,
      "outputs": []
    },
    {
      "cell_type": "markdown",
      "source": [
        "## Entrenamiento con los hiperparámetros dados"
      ],
      "metadata": {
        "id": "1-k4jFUPwFqV"
      }
    },
    {
      "cell_type": "code",
      "source": [
        "model = create_model(x_train, y_train_binary, epoch=4, batch_size=2000, validation_split=0.9)\n",
        "metrics_model1 = get_metrics(model, x_test, y_test_binary)\n",
        "print(metrics_model1)"
      ],
      "metadata": {
        "id": "Bcb43x96H6xD",
        "colab": {
          "base_uri": "https://localhost:8080/"
        },
        "outputId": "de71c04f-c8cd-4716-c30b-5324050a9a1c"
      },
      "execution_count": 4,
      "outputs": [
        {
          "output_type": "stream",
          "name": "stdout",
          "text": [
            "Epoch 1/4\n",
            "1/1 [==============================] - 2s 2s/step - loss: 7.5691 - accuracy: 0.5055 - val_loss: 7.2096 - val_accuracy: 0.5275\n",
            "Epoch 2/4\n",
            "1/1 [==============================] - 0s 139ms/step - loss: 7.2956 - accuracy: 0.5231 - val_loss: 6.9909 - val_accuracy: 0.5428\n",
            "Epoch 3/4\n",
            "1/1 [==============================] - 0s 141ms/step - loss: 6.7701 - accuracy: 0.5563 - val_loss: 6.7617 - val_accuracy: 0.5575\n",
            "Epoch 4/4\n",
            "1/1 [==============================] - 0s 126ms/step - loss: 6.7933 - accuracy: 0.5544 - val_loss: 7.0019 - val_accuracy: 0.5443\n",
            "56/56 [==============================] - 0s 3ms/step\n",
            "   accuracy  precision    recall      f1_s\n",
            "0  0.552691   0.643293  0.236547  0.345902\n",
            "1  0.552691   0.532280  0.868834  0.660136\n"
          ]
        }
      ]
    },
    {
      "cell_type": "code",
      "source": [
        "model = create_model(x_train, y_train_binary, epoch=20, batch_size=2000, validation_split=0.9)\n",
        "metrics_model2 = get_metrics(model, x_test, y_test_binary)\n",
        "print(metrics_model2)"
      ],
      "metadata": {
        "colab": {
          "base_uri": "https://localhost:8080/"
        },
        "id": "pqi4oJU3JV0N",
        "outputId": "2df21444-44f2-4f6c-8201-872011cac5f3"
      },
      "execution_count": 5,
      "outputs": [
        {
          "output_type": "stream",
          "name": "stdout",
          "text": [
            "Epoch 1/20\n",
            "1/1 [==============================] - 1s 1s/step - loss: 7.7898 - accuracy: 0.4908 - val_loss: 7.3017 - val_accuracy: 0.5211\n",
            "Epoch 2/20\n",
            "1/1 [==============================] - 0s 111ms/step - loss: 7.2531 - accuracy: 0.5240 - val_loss: 7.3068 - val_accuracy: 0.5202\n",
            "Epoch 3/20\n",
            "1/1 [==============================] - 0s 276ms/step - loss: 7.3598 - accuracy: 0.5166 - val_loss: 6.9922 - val_accuracy: 0.5406\n",
            "Epoch 4/20\n",
            "1/1 [==============================] - 0s 138ms/step - loss: 6.9319 - accuracy: 0.5443 - val_loss: 6.9912 - val_accuracy: 0.5413\n",
            "Epoch 5/20\n",
            "1/1 [==============================] - 0s 85ms/step - loss: 7.1265 - accuracy: 0.5277 - val_loss: 6.6676 - val_accuracy: 0.5631\n",
            "Epoch 6/20\n",
            "1/1 [==============================] - 0s 128ms/step - loss: 6.7977 - accuracy: 0.5535 - val_loss: 6.5170 - val_accuracy: 0.5729\n",
            "Epoch 7/20\n",
            "1/1 [==============================] - 0s 145ms/step - loss: 6.5877 - accuracy: 0.5664 - val_loss: 6.4124 - val_accuracy: 0.5787\n",
            "Epoch 8/20\n",
            "1/1 [==============================] - 0s 150ms/step - loss: 6.4719 - accuracy: 0.5766 - val_loss: 6.4124 - val_accuracy: 0.5787\n",
            "Epoch 9/20\n",
            "1/1 [==============================] - 0s 128ms/step - loss: 6.4719 - accuracy: 0.5766 - val_loss: 6.4124 - val_accuracy: 0.5787\n",
            "Epoch 10/20\n",
            "1/1 [==============================] - 0s 113ms/step - loss: 6.4719 - accuracy: 0.5766 - val_loss: 6.4124 - val_accuracy: 0.5787\n",
            "Epoch 11/20\n",
            "1/1 [==============================] - 0s 113ms/step - loss: 6.4719 - accuracy: 0.5766 - val_loss: 6.4124 - val_accuracy: 0.5787\n",
            "Epoch 12/20\n",
            "1/1 [==============================] - 0s 113ms/step - loss: 6.4719 - accuracy: 0.5766 - val_loss: 6.4124 - val_accuracy: 0.5787\n",
            "Epoch 13/20\n",
            "1/1 [==============================] - 0s 249ms/step - loss: 6.4719 - accuracy: 0.5766 - val_loss: 6.4124 - val_accuracy: 0.5787\n",
            "Epoch 14/20\n",
            "1/1 [==============================] - 0s 195ms/step - loss: 6.4719 - accuracy: 0.5766 - val_loss: 6.4124 - val_accuracy: 0.5787\n",
            "Epoch 15/20\n",
            "1/1 [==============================] - 0s 122ms/step - loss: 6.4719 - accuracy: 0.5766 - val_loss: 6.4124 - val_accuracy: 0.5787\n",
            "Epoch 16/20\n",
            "1/1 [==============================] - 0s 130ms/step - loss: 6.4719 - accuracy: 0.5766 - val_loss: 6.4124 - val_accuracy: 0.5787\n",
            "Epoch 17/20\n",
            "1/1 [==============================] - 0s 138ms/step - loss: 6.4719 - accuracy: 0.5766 - val_loss: 6.4124 - val_accuracy: 0.5787\n",
            "Epoch 18/20\n",
            "1/1 [==============================] - 0s 151ms/step - loss: 6.4719 - accuracy: 0.5766 - val_loss: 6.4124 - val_accuracy: 0.5787\n",
            "Epoch 19/20\n",
            "1/1 [==============================] - 0s 222ms/step - loss: 6.4719 - accuracy: 0.5766 - val_loss: 6.4124 - val_accuracy: 0.5787\n",
            "Epoch 20/20\n",
            "1/1 [==============================] - 0s 135ms/step - loss: 6.4719 - accuracy: 0.5766 - val_loss: 6.4124 - val_accuracy: 0.5787\n",
            "56/56 [==============================] - 0s 3ms/step\n",
            "   accuracy  precision    recall      f1_s\n",
            "0  0.574552   0.548364  0.845291  0.665196\n",
            "1  0.574552   0.662592  0.303812  0.416603\n"
          ]
        }
      ]
    },
    {
      "cell_type": "code",
      "source": [
        "model = create_model(x_train, y_train_binary, epoch=4, batch_size=2, validation_split=0.9)\n",
        "metrics_model3 = get_metrics(model, x_test, y_test_binary)\n",
        "print(metrics_model3)"
      ],
      "metadata": {
        "colab": {
          "base_uri": "https://localhost:8080/"
        },
        "id": "4jOiZcB4wuXk",
        "outputId": "aff4767d-93ee-4551-fe14-25f7873affbf"
      },
      "execution_count": 6,
      "outputs": [
        {
          "output_type": "stream",
          "name": "stdout",
          "text": [
            "Epoch 1/4\n",
            "542/542 [==============================] - 14s 25ms/step - loss: 7.5042 - accuracy: 0.5083 - val_loss: 7.2940 - val_accuracy: 0.5222\n",
            "Epoch 2/4\n",
            "542/542 [==============================] - 11s 21ms/step - loss: 7.2562 - accuracy: 0.5240 - val_loss: 7.2893 - val_accuracy: 0.5218\n",
            "Epoch 3/4\n",
            "542/542 [==============================] - 7s 13ms/step - loss: 7.0748 - accuracy: 0.5341 - val_loss: 6.5798 - val_accuracy: 0.5674\n",
            "Epoch 4/4\n",
            "542/542 [==============================] - 6s 11ms/step - loss: 6.5906 - accuracy: 0.5683 - val_loss: 6.3358 - val_accuracy: 0.5864\n",
            "56/56 [==============================] - 0s 1ms/step\n",
            "   accuracy  precision    recall      f1_s\n",
            "0  0.581278   0.611026  0.447309  0.516505\n",
            "1  0.581278   0.564103  0.715247  0.630746\n"
          ]
        }
      ]
    },
    {
      "cell_type": "code",
      "source": [
        "model = create_model(x_train, y_train_binary, epoch=4, batch_size=2000, validation_split=0.01)\n",
        "metrics_model4 = get_metrics(model, x_test, y_test_binary)\n",
        "print(metrics_model4)"
      ],
      "metadata": {
        "colab": {
          "base_uri": "https://localhost:8080/"
        },
        "id": "SzUEozG0w3xS",
        "outputId": "84fb0ac0-9c33-46eb-9f78-926268c03b4d"
      },
      "execution_count": 7,
      "outputs": [
        {
          "output_type": "stream",
          "name": "stdout",
          "text": [
            "Epoch 1/4\n",
            "6/6 [==============================] - 1s 61ms/step - loss: 7.7100 - accuracy: 0.4969 - val_loss: 6.9003 - val_accuracy: 0.5505\n",
            "Epoch 2/4\n",
            "6/6 [==============================] - 0s 21ms/step - loss: 6.3253 - accuracy: 0.5862 - val_loss: 6.1911 - val_accuracy: 0.5963\n",
            "Epoch 3/4\n",
            "6/6 [==============================] - 0s 16ms/step - loss: 5.7883 - accuracy: 0.6207 - val_loss: 5.6218 - val_accuracy: 0.6330\n",
            "Epoch 4/4\n",
            "6/6 [==============================] - 0s 21ms/step - loss: 5.4895 - accuracy: 0.6408 - val_loss: 5.6750 - val_accuracy: 0.6239\n",
            "56/56 [==============================] - 0s 2ms/step\n",
            "   accuracy  precision    recall      f1_s\n",
            "0  0.648543   0.699849  0.520179  0.596785\n",
            "1  0.648543   0.618198  0.776906  0.688525\n"
          ]
        }
      ]
    },
    {
      "cell_type": "markdown",
      "source": [
        "A continuación, un resumen de los resultados por cada modelo:´"
      ],
      "metadata": {
        "id": "2d9Ex8mDye9I"
      }
    },
    {
      "cell_type": "code",
      "source": [
        "print('[ 1 ]  Modelo con epoch=4, batch_size=2000, validation_split=0.9:')\n",
        "print(metrics_model1, '\\n')\n",
        "\n",
        "print('[ 2 ] Modelo con epoch=20, batch_size=2000, validation_split=0.9:')\n",
        "print(metrics_model2, '\\n')\n",
        "\n",
        "print('[ 3 ] Modelo con epoch=4, batch_size=2, validation_split=0.9:')\n",
        "print(metrics_model3, '\\n')\n",
        "\n",
        "print('[ 4 ] Modelo con epoch=4, batch_size=2000, validation_split=0.01:')\n",
        "print(metrics_model4, '\\n')\n"
      ],
      "metadata": {
        "colab": {
          "base_uri": "https://localhost:8080/"
        },
        "id": "18WcWoziynDB",
        "outputId": "0e1fc84b-d991-487d-d65b-2d09c3318020"
      },
      "execution_count": 8,
      "outputs": [
        {
          "output_type": "stream",
          "name": "stdout",
          "text": [
            "[ 1 ]  Modelo con epoch=4, batch_size=2000, validation_split=0.9:\n",
            "   accuracy  precision    recall      f1_s\n",
            "0  0.552691   0.643293  0.236547  0.345902\n",
            "1  0.552691   0.532280  0.868834  0.660136 \n",
            "\n",
            "[ 2 ] Modelo con epoch=20, batch_size=2000, validation_split=0.9:\n",
            "   accuracy  precision    recall      f1_s\n",
            "0  0.574552   0.548364  0.845291  0.665196\n",
            "1  0.574552   0.662592  0.303812  0.416603 \n",
            "\n",
            "[ 3 ] Modelo con epoch=4, batch_size=2, validation_split=0.9:\n",
            "   accuracy  precision    recall      f1_s\n",
            "0  0.581278   0.611026  0.447309  0.516505\n",
            "1  0.581278   0.564103  0.715247  0.630746 \n",
            "\n",
            "[ 4 ] Modelo con epoch=4, batch_size=2000, validation_split=0.01:\n",
            "   accuracy  precision    recall      f1_s\n",
            "0  0.648543   0.699849  0.520179  0.596785\n",
            "1  0.648543   0.618198  0.776906  0.688525 \n",
            "\n"
          ]
        }
      ]
    },
    {
      "cell_type": "markdown",
      "source": [
        "Podemos observar que en algunos modelos, ya sea para la clase 1 o la clase 0, el resultado de una métrica mejora, por ejemplo _precision_, pero disminuye el _recall_, como la clase 0 del modelo 3. De los cuatro modelos, el que tuve mejores resultados en promedio fue el 4, pues vio más datos de entrenamiento, en comparación a los demás."
      ],
      "metadata": {
        "id": "14G8Ke7Wzp83"
      }
    },
    {
      "cell_type": "markdown",
      "source": [
        "## Optimizando métricas"
      ],
      "metadata": {
        "id": "20IfUMOv3JxC"
      }
    },
    {
      "cell_type": "code",
      "source": [
        "model = create_model(x_train, y_train_binary, epoch=20, batch_size=32, validation_split=0.2)\n",
        "metrics_model5 = get_metrics(model, x_test, y_test_binary)\n",
        "print(metrics_model5)"
      ],
      "metadata": {
        "colab": {
          "base_uri": "https://localhost:8080/"
        },
        "id": "bFJuP8lQ3Hwp",
        "outputId": "0f904ab4-6757-43f1-9672-11ca0fe7623c"
      },
      "execution_count": 9,
      "outputs": [
        {
          "output_type": "stream",
          "name": "stdout",
          "text": [
            "Epoch 1/20\n",
            "272/272 [==============================] - 2s 4ms/step - loss: 7.5332 - accuracy: 0.5044 - val_loss: 7.1288 - val_accuracy: 0.5330\n",
            "Epoch 2/20\n",
            "272/272 [==============================] - 1s 2ms/step - loss: 6.0617 - accuracy: 0.6023 - val_loss: 5.1040 - val_accuracy: 0.6657\n",
            "Epoch 3/20\n",
            "272/272 [==============================] - 1s 2ms/step - loss: 5.0395 - accuracy: 0.6689 - val_loss: 4.3362 - val_accuracy: 0.7146\n",
            "Epoch 4/20\n",
            "272/272 [==============================] - 1s 2ms/step - loss: 3.9934 - accuracy: 0.7379 - val_loss: 4.0263 - val_accuracy: 0.7367\n",
            "Epoch 5/20\n",
            "272/272 [==============================] - 1s 2ms/step - loss: 3.7691 - accuracy: 0.7537 - val_loss: 3.1025 - val_accuracy: 0.7971\n",
            "Epoch 6/20\n",
            "272/272 [==============================] - 1s 2ms/step - loss: 2.9632 - accuracy: 0.8058 - val_loss: 3.1304 - val_accuracy: 0.7953\n",
            "Epoch 7/20\n",
            "272/272 [==============================] - 1s 2ms/step - loss: 3.2894 - accuracy: 0.7854 - val_loss: 2.7267 - val_accuracy: 0.8211\n",
            "Epoch 8/20\n",
            "272/272 [==============================] - 1s 2ms/step - loss: 3.1061 - accuracy: 0.7971 - val_loss: 3.3055 - val_accuracy: 0.7847\n",
            "Epoch 9/20\n",
            "272/272 [==============================] - 1s 2ms/step - loss: 2.8531 - accuracy: 0.8132 - val_loss: 2.5255 - val_accuracy: 0.8345\n",
            "Epoch 10/20\n",
            "272/272 [==============================] - 1s 2ms/step - loss: 2.5206 - accuracy: 0.8350 - val_loss: 2.3460 - val_accuracy: 0.8460\n",
            "Epoch 11/20\n",
            "272/272 [==============================] - 1s 2ms/step - loss: 2.3592 - accuracy: 0.8450 - val_loss: 2.3149 - val_accuracy: 0.8479\n",
            "Epoch 12/20\n",
            "272/272 [==============================] - 1s 2ms/step - loss: 2.6063 - accuracy: 0.8281 - val_loss: 2.2250 - val_accuracy: 0.8538\n",
            "Epoch 13/20\n",
            "272/272 [==============================] - 1s 2ms/step - loss: 2.3964 - accuracy: 0.8426 - val_loss: 2.5911 - val_accuracy: 0.8299\n",
            "Epoch 14/20\n",
            "272/272 [==============================] - 1s 2ms/step - loss: 2.2036 - accuracy: 0.8552 - val_loss: 2.4403 - val_accuracy: 0.8400\n",
            "Epoch 15/20\n",
            "272/272 [==============================] - 1s 3ms/step - loss: 2.2213 - accuracy: 0.8544 - val_loss: 2.5705 - val_accuracy: 0.8313\n",
            "Epoch 16/20\n",
            "272/272 [==============================] - 1s 3ms/step - loss: 2.1496 - accuracy: 0.8585 - val_loss: 2.1016 - val_accuracy: 0.8621\n",
            "Epoch 17/20\n",
            "272/272 [==============================] - 1s 3ms/step - loss: 2.0402 - accuracy: 0.8664 - val_loss: 1.9767 - val_accuracy: 0.8709\n",
            "Epoch 18/20\n",
            "272/272 [==============================] - 1s 2ms/step - loss: 1.9663 - accuracy: 0.8709 - val_loss: 2.4012 - val_accuracy: 0.8428\n",
            "Epoch 19/20\n",
            "272/272 [==============================] - 1s 2ms/step - loss: 2.0943 - accuracy: 0.8624 - val_loss: 1.9950 - val_accuracy: 0.8691\n",
            "Epoch 20/20\n",
            "272/272 [==============================] - 1s 2ms/step - loss: 1.9896 - accuracy: 0.8697 - val_loss: 1.9877 - val_accuracy: 0.8700\n",
            "56/56 [==============================] - 0s 1ms/step\n",
            "   accuracy  precision    recall      f1_s\n",
            "0  0.861547   0.853231  0.873318  0.863158\n",
            "1  0.861547   0.870264  0.849776  0.859898\n"
          ]
        }
      ]
    },
    {
      "cell_type": "markdown",
      "source": [
        "Este modelo tuvo mejor resultado en promedio que los demás, destacando principalmente _f1-score_ y el _accuracy_."
      ],
      "metadata": {
        "id": "oG49gKhn8WUZ"
      }
    }
  ]
}